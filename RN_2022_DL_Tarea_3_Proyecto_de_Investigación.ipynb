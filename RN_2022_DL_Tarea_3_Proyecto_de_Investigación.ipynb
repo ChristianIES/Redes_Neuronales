{
  "cells": [
    {
      "cell_type": "markdown",
      "metadata": {
        "id": "view-in-github",
        "colab_type": "text"
      },
      "source": [
        "<a href=\"https://colab.research.google.com/github/ChristianIES/Redes_Neuronales/blob/main/RN_2022_DL_Tarea_3_Proyecto_de_Investigaci%C3%B3n.ipynb\" target=\"_parent\"><img src=\"https://colab.research.google.com/assets/colab-badge.svg\" alt=\"Open In Colab\"/></a>"
      ]
    },
    {
      "cell_type": "markdown",
      "metadata": {
        "id": "vRDO4iB7SCEc"
      },
      "source": [
        "# Tarea 1 - El Perceptrón Multicapa como modelo de regresión\n",
        "\n",
        "- Nombre: Valentina Bastidas S.\n",
        "- Programa: Doctorado en Estadística\n",
        "\n",
        "\n",
        "- Nombre: Christian Araya M.\n",
        "- Programa: Doctorado en Estadística\n",
        "\n",
        "\n",
        "\n",
        "\n",
        "Códigos asociados al proyecto semestral del curso Redes Neuronales, Optativo para el programa de Doctorado en Estadística."
      ]
    },
    {
      "cell_type": "code",
      "execution_count": 1,
      "metadata": {
        "id": "eGygDih6SCEj"
      },
      "outputs": [],
      "source": [
        "import numpy as np\n",
        "import pandas as pd\n",
        "import seaborn as sns\n",
        "import matplotlib.pyplot as plt\n",
        "from sklearn.preprocessing import MinMaxScaler\n",
        "from sklearn.preprocessing import StandardScaler\n",
        "\n",
        "from sklearn.metrics import r2_score\n",
        "from sklearn.metrics import mean_squared_error\n",
        "from sklearn.metrics import mean_absolute_error\n",
        "from sklearn.metrics import explained_variance_score\n",
        "from sklearn.model_selection import train_test_split\n",
        "from sklearn.metrics import confusion_matrix, accuracy_score\n",
        "from sklearn.metrics import classification_report\n",
        "from scipy.stats import pearsonr\n",
        "from scipy.stats import spearmanr\n",
        "\n",
        "from matplotlib import cm\n",
        "from mpl_toolkits.mplot3d import Axes3D\n",
        "\n",
        "from keras.models import Sequential\n",
        "from keras.layers import Dense\n",
        "\n",
        "%matplotlib inline"
      ]
    },
    {
      "cell_type": "code",
      "source": [
        "from keras.callbacks import EarlyStopping\n",
        "from keras.callbacks import ModelCheckpoint\n",
        "from keras.models import load_model"
      ],
      "metadata": {
        "id": "DzR5DktIsP9H"
      },
      "execution_count": 2,
      "outputs": []
    },
    {
      "cell_type": "code",
      "source": [
        "datos=pd.read_csv(\"/content/Maternal Health Risk Data Set.csv\",header=0)\n",
        "datos.head()"
      ],
      "metadata": {
        "colab": {
          "base_uri": "https://localhost:8080/",
          "height": 204
        },
        "id": "HpHiXCU4dOJB",
        "outputId": "d45c1ca1-2c1e-4802-a7fa-fc3cb288da68"
      },
      "execution_count": 3,
      "outputs": [
        {
          "output_type": "execute_result",
          "data": {
            "text/plain": [
              "   Age  SystolicBP  DiastolicBP    BS  BodyTemp  HeartRate  RiskLevel\n",
              "0   25         130           80  15.0      98.0         86  high risk\n",
              "1   35         140           90  13.0      98.0         70  high risk\n",
              "2   29          90           70   8.0     100.0         80  high risk\n",
              "3   30         140           85   7.0      98.0         70  high risk\n",
              "4   35         120           60   6.1      98.0         76   low risk"
            ],
            "text/html": [
              "\n",
              "  <div id=\"df-0dbf9922-d1a0-4f53-a707-128f0f202180\">\n",
              "    <div class=\"colab-df-container\">\n",
              "      <div>\n",
              "<style scoped>\n",
              "    .dataframe tbody tr th:only-of-type {\n",
              "        vertical-align: middle;\n",
              "    }\n",
              "\n",
              "    .dataframe tbody tr th {\n",
              "        vertical-align: top;\n",
              "    }\n",
              "\n",
              "    .dataframe thead th {\n",
              "        text-align: right;\n",
              "    }\n",
              "</style>\n",
              "<table border=\"1\" class=\"dataframe\">\n",
              "  <thead>\n",
              "    <tr style=\"text-align: right;\">\n",
              "      <th></th>\n",
              "      <th>Age</th>\n",
              "      <th>SystolicBP</th>\n",
              "      <th>DiastolicBP</th>\n",
              "      <th>BS</th>\n",
              "      <th>BodyTemp</th>\n",
              "      <th>HeartRate</th>\n",
              "      <th>RiskLevel</th>\n",
              "    </tr>\n",
              "  </thead>\n",
              "  <tbody>\n",
              "    <tr>\n",
              "      <th>0</th>\n",
              "      <td>25</td>\n",
              "      <td>130</td>\n",
              "      <td>80</td>\n",
              "      <td>15.0</td>\n",
              "      <td>98.0</td>\n",
              "      <td>86</td>\n",
              "      <td>high risk</td>\n",
              "    </tr>\n",
              "    <tr>\n",
              "      <th>1</th>\n",
              "      <td>35</td>\n",
              "      <td>140</td>\n",
              "      <td>90</td>\n",
              "      <td>13.0</td>\n",
              "      <td>98.0</td>\n",
              "      <td>70</td>\n",
              "      <td>high risk</td>\n",
              "    </tr>\n",
              "    <tr>\n",
              "      <th>2</th>\n",
              "      <td>29</td>\n",
              "      <td>90</td>\n",
              "      <td>70</td>\n",
              "      <td>8.0</td>\n",
              "      <td>100.0</td>\n",
              "      <td>80</td>\n",
              "      <td>high risk</td>\n",
              "    </tr>\n",
              "    <tr>\n",
              "      <th>3</th>\n",
              "      <td>30</td>\n",
              "      <td>140</td>\n",
              "      <td>85</td>\n",
              "      <td>7.0</td>\n",
              "      <td>98.0</td>\n",
              "      <td>70</td>\n",
              "      <td>high risk</td>\n",
              "    </tr>\n",
              "    <tr>\n",
              "      <th>4</th>\n",
              "      <td>35</td>\n",
              "      <td>120</td>\n",
              "      <td>60</td>\n",
              "      <td>6.1</td>\n",
              "      <td>98.0</td>\n",
              "      <td>76</td>\n",
              "      <td>low risk</td>\n",
              "    </tr>\n",
              "  </tbody>\n",
              "</table>\n",
              "</div>\n",
              "      <button class=\"colab-df-convert\" onclick=\"convertToInteractive('df-0dbf9922-d1a0-4f53-a707-128f0f202180')\"\n",
              "              title=\"Convert this dataframe to an interactive table.\"\n",
              "              style=\"display:none;\">\n",
              "        \n",
              "  <svg xmlns=\"http://www.w3.org/2000/svg\" height=\"24px\"viewBox=\"0 0 24 24\"\n",
              "       width=\"24px\">\n",
              "    <path d=\"M0 0h24v24H0V0z\" fill=\"none\"/>\n",
              "    <path d=\"M18.56 5.44l.94 2.06.94-2.06 2.06-.94-2.06-.94-.94-2.06-.94 2.06-2.06.94zm-11 1L8.5 8.5l.94-2.06 2.06-.94-2.06-.94L8.5 2.5l-.94 2.06-2.06.94zm10 10l.94 2.06.94-2.06 2.06-.94-2.06-.94-.94-2.06-.94 2.06-2.06.94z\"/><path d=\"M17.41 7.96l-1.37-1.37c-.4-.4-.92-.59-1.43-.59-.52 0-1.04.2-1.43.59L10.3 9.45l-7.72 7.72c-.78.78-.78 2.05 0 2.83L4 21.41c.39.39.9.59 1.41.59.51 0 1.02-.2 1.41-.59l7.78-7.78 2.81-2.81c.8-.78.8-2.07 0-2.86zM5.41 20L4 18.59l7.72-7.72 1.47 1.35L5.41 20z\"/>\n",
              "  </svg>\n",
              "      </button>\n",
              "      \n",
              "  <style>\n",
              "    .colab-df-container {\n",
              "      display:flex;\n",
              "      flex-wrap:wrap;\n",
              "      gap: 12px;\n",
              "    }\n",
              "\n",
              "    .colab-df-convert {\n",
              "      background-color: #E8F0FE;\n",
              "      border: none;\n",
              "      border-radius: 50%;\n",
              "      cursor: pointer;\n",
              "      display: none;\n",
              "      fill: #1967D2;\n",
              "      height: 32px;\n",
              "      padding: 0 0 0 0;\n",
              "      width: 32px;\n",
              "    }\n",
              "\n",
              "    .colab-df-convert:hover {\n",
              "      background-color: #E2EBFA;\n",
              "      box-shadow: 0px 1px 2px rgba(60, 64, 67, 0.3), 0px 1px 3px 1px rgba(60, 64, 67, 0.15);\n",
              "      fill: #174EA6;\n",
              "    }\n",
              "\n",
              "    [theme=dark] .colab-df-convert {\n",
              "      background-color: #3B4455;\n",
              "      fill: #D2E3FC;\n",
              "    }\n",
              "\n",
              "    [theme=dark] .colab-df-convert:hover {\n",
              "      background-color: #434B5C;\n",
              "      box-shadow: 0px 1px 3px 1px rgba(0, 0, 0, 0.15);\n",
              "      filter: drop-shadow(0px 1px 2px rgba(0, 0, 0, 0.3));\n",
              "      fill: #FFFFFF;\n",
              "    }\n",
              "  </style>\n",
              "\n",
              "      <script>\n",
              "        const buttonEl =\n",
              "          document.querySelector('#df-0dbf9922-d1a0-4f53-a707-128f0f202180 button.colab-df-convert');\n",
              "        buttonEl.style.display =\n",
              "          google.colab.kernel.accessAllowed ? 'block' : 'none';\n",
              "\n",
              "        async function convertToInteractive(key) {\n",
              "          const element = document.querySelector('#df-0dbf9922-d1a0-4f53-a707-128f0f202180');\n",
              "          const dataTable =\n",
              "            await google.colab.kernel.invokeFunction('convertToInteractive',\n",
              "                                                     [key], {});\n",
              "          if (!dataTable) return;\n",
              "\n",
              "          const docLinkHtml = 'Like what you see? Visit the ' +\n",
              "            '<a target=\"_blank\" href=https://colab.research.google.com/notebooks/data_table.ipynb>data table notebook</a>'\n",
              "            + ' to learn more about interactive tables.';\n",
              "          element.innerHTML = '';\n",
              "          dataTable['output_type'] = 'display_data';\n",
              "          await google.colab.output.renderOutput(dataTable, element);\n",
              "          const docLink = document.createElement('div');\n",
              "          docLink.innerHTML = docLinkHtml;\n",
              "          element.appendChild(docLink);\n",
              "        }\n",
              "      </script>\n",
              "    </div>\n",
              "  </div>\n",
              "  "
            ]
          },
          "metadata": {},
          "execution_count": 3
        }
      ]
    },
    {
      "cell_type": "code",
      "source": [
        "#existencia de datos perdidos:\n",
        "datos.isnull().sum()"
      ],
      "metadata": {
        "colab": {
          "base_uri": "https://localhost:8080/"
        },
        "id": "LhZIEdIVfeWU",
        "outputId": "dcd19779-19b0-41ca-8189-8712f20e073a"
      },
      "execution_count": 4,
      "outputs": [
        {
          "output_type": "execute_result",
          "data": {
            "text/plain": [
              "Age            0\n",
              "SystolicBP     0\n",
              "DiastolicBP    0\n",
              "BS             0\n",
              "BodyTemp       0\n",
              "HeartRate      0\n",
              "RiskLevel      0\n",
              "dtype: int64"
            ]
          },
          "metadata": {},
          "execution_count": 4
        }
      ]
    },
    {
      "cell_type": "code",
      "source": [
        "dataset=datos.values\n",
        "X=dataset[:,:-1]\n",
        "y=dataset[:,-1]"
      ],
      "metadata": {
        "id": "FRYIOPXoGhBc"
      },
      "execution_count": 5,
      "outputs": []
    },
    {
      "cell_type": "code",
      "source": [
        "y=y.reshape((len(y),1))\n",
        "y"
      ],
      "metadata": {
        "colab": {
          "base_uri": "https://localhost:8080/"
        },
        "id": "4ruka9VLG5SH",
        "outputId": "d1287e3d-b049-4610-9a24-86df8f3fcedc"
      },
      "execution_count": 6,
      "outputs": [
        {
          "output_type": "execute_result",
          "data": {
            "text/plain": [
              "array([['high risk'],\n",
              "       ['high risk'],\n",
              "       ['high risk'],\n",
              "       ...,\n",
              "       ['high risk'],\n",
              "       ['high risk'],\n",
              "       ['mid risk']], dtype=object)"
            ]
          },
          "metadata": {},
          "execution_count": 6
        }
      ]
    },
    {
      "cell_type": "code",
      "source": [
        "X_train, X_test, y_train, y_test = train_test_split(X, y, test_size=0.33)"
      ],
      "metadata": {
        "id": "qD3mgKAiHxRv"
      },
      "execution_count": 7,
      "outputs": []
    },
    {
      "cell_type": "code",
      "source": [
        "#escalamiento de los datos:\n",
        "scaler = MinMaxScaler(feature_range=(0, 1))\n",
        "X_train=scaler.fit_transform(X_train)\n",
        "X_test=scaler.fit_transform(X_test)"
      ],
      "metadata": {
        "id": "CAfC1_WIg3bz"
      },
      "execution_count": 8,
      "outputs": []
    },
    {
      "cell_type": "code",
      "source": [
        "#Árboles de decisión:\n",
        "\n",
        "from sklearn import tree\n",
        "\n",
        "arbol = tree.DecisionTreeClassifier(criterion='gini')\n",
        "\n",
        "#entrenamiento:\n",
        "arbol.fit(X_train, y_train)\n",
        "\n",
        "print(\"Train accuracy:\",arbol.score(X_train,y_train))\n",
        "print(\"Test accuracy:\",arbol.score(X_test,y_test))\n",
        "\n"
      ],
      "metadata": {
        "colab": {
          "base_uri": "https://localhost:8080/"
        },
        "id": "aj51a5TShGSx",
        "outputId": "7cb113de-983d-467e-97f4-2f5d4a90008a"
      },
      "execution_count": 9,
      "outputs": [
        {
          "output_type": "stream",
          "name": "stdout",
          "text": [
            "Train accuracy: 0.930780559646539\n",
            "Test accuracy: 0.7940298507462686\n"
          ]
        }
      ]
    },
    {
      "cell_type": "code",
      "source": [
        "y_pred = arbol.predict(X_test)\n",
        "#print(y_pred)\n"
      ],
      "metadata": {
        "id": "DgERwT9WhUVX"
      },
      "execution_count": 54,
      "outputs": []
    },
    {
      "cell_type": "code",
      "source": [
        "cm1 = confusion_matrix(y_test, y_pred)\n",
        "print(f'CM:',cm1)\n",
        "print(f'Accuracy:',accuracy_score(y_test, y_pred)* 100 ,'%')\n",
        "print(classification_report(y_test, arbol.predict(X_test)))"
      ],
      "metadata": {
        "colab": {
          "base_uri": "https://localhost:8080/"
        },
        "id": "xHyfccF9hY8G",
        "outputId": "df947428-b3a2-48d3-f749-b2bf6d3d7e14"
      },
      "execution_count": 55,
      "outputs": [
        {
          "output_type": "stream",
          "name": "stdout",
          "text": [
            "CM: [[ 85   0   9]\n",
            " [  9 106  24]\n",
            " [ 10  17  75]]\n",
            "Accuracy: 79.40298507462687 %\n",
            "              precision    recall  f1-score   support\n",
            "\n",
            "   high risk       0.82      0.90      0.86        94\n",
            "    low risk       0.86      0.76      0.81       139\n",
            "    mid risk       0.69      0.74      0.71       102\n",
            "\n",
            "    accuracy                           0.79       335\n",
            "   macro avg       0.79      0.80      0.79       335\n",
            "weighted avg       0.80      0.79      0.79       335\n",
            "\n"
          ]
        }
      ]
    },
    {
      "cell_type": "code",
      "source": [
        "#Random Forest:\n",
        "\n",
        "from sklearn.ensemble import RandomForestClassifier\n",
        "\n",
        "rf = RandomForestClassifier()\n",
        "\n",
        "#entrenamiento:\n",
        "rf.fit(X_train, y_train)\n",
        "\n",
        "print(\"Train accuracy:\",rf.score(X_train,y_train))\n",
        "print(\"Test accuracy:\",rf.score(X_test,y_test))"
      ],
      "metadata": {
        "colab": {
          "base_uri": "https://localhost:8080/"
        },
        "id": "8BOQhjroirSL",
        "outputId": "661c0286-49af-490f-d24b-8ebe6bc11afc"
      },
      "execution_count": 11,
      "outputs": [
        {
          "output_type": "stream",
          "name": "stderr",
          "text": [
            "<ipython-input-11-bafa7bbfb7bd>:8: DataConversionWarning: A column-vector y was passed when a 1d array was expected. Please change the shape of y to (n_samples,), for example using ravel().\n",
            "  rf.fit(X_train, y_train)\n"
          ]
        },
        {
          "output_type": "stream",
          "name": "stdout",
          "text": [
            "Train accuracy: 0.930780559646539\n",
            "Test accuracy: 0.8059701492537313\n"
          ]
        }
      ]
    },
    {
      "cell_type": "code",
      "source": [
        "y_pred2 = rf.predict(X_test)"
      ],
      "metadata": {
        "id": "-ODzTSlJi7Pc"
      },
      "execution_count": 12,
      "outputs": []
    },
    {
      "cell_type": "code",
      "source": [
        "cm2 = confusion_matrix(y_test, y_pred2)\n",
        "print(f'CM:',cm2)\n",
        "print(f'Accuracy:',accuracy_score(y_test, y_pred2)* 100 ,'%')\n",
        "print(classification_report(y_test, rf.predict(X_test)))"
      ],
      "metadata": {
        "colab": {
          "base_uri": "https://localhost:8080/"
        },
        "id": "5Mhy-N-1i_wl",
        "outputId": "8204ae23-312c-4820-ee37-c4613470c0e6"
      },
      "execution_count": 13,
      "outputs": [
        {
          "output_type": "stream",
          "name": "stdout",
          "text": [
            "CM: [[ 83   2   9]\n",
            " [  5 109  25]\n",
            " [  8  16  78]]\n",
            "Accuracy: 80.59701492537313 %\n",
            "              precision    recall  f1-score   support\n",
            "\n",
            "   high risk       0.86      0.88      0.87        94\n",
            "    low risk       0.86      0.78      0.82       139\n",
            "    mid risk       0.70      0.76      0.73       102\n",
            "\n",
            "    accuracy                           0.81       335\n",
            "   macro avg       0.81      0.81      0.81       335\n",
            "weighted avg       0.81      0.81      0.81       335\n",
            "\n"
          ]
        }
      ]
    },
    {
      "cell_type": "code",
      "source": [
        "#preparación de los datos para una red neuronal:\n",
        "from sklearn.preprocessing import LabelEncoder\n",
        "encoder = LabelEncoder()\n",
        "encoder.fit(y_train)\n",
        "encoder.fit(y_test)\n",
        "encoded_ytrain = encoder.transform(y_train)\n",
        "encoded_ytest = encoder.transform(y_test)"
      ],
      "metadata": {
        "colab": {
          "base_uri": "https://localhost:8080/"
        },
        "id": "kC4BkS3pLCvZ",
        "outputId": "22db45d7-e786-4913-f711-abbe4019c50e"
      },
      "execution_count": 14,
      "outputs": [
        {
          "output_type": "stream",
          "name": "stderr",
          "text": [
            "/usr/local/lib/python3.8/dist-packages/sklearn/preprocessing/_label.py:98: DataConversionWarning: A column-vector y was passed when a 1d array was expected. Please change the shape of y to (n_samples, ), for example using ravel().\n",
            "  y = column_or_1d(y, warn=True)\n",
            "/usr/local/lib/python3.8/dist-packages/sklearn/preprocessing/_label.py:133: DataConversionWarning: A column-vector y was passed when a 1d array was expected. Please change the shape of y to (n_samples, ), for example using ravel().\n",
            "  y = column_or_1d(y, warn=True)\n"
          ]
        }
      ]
    },
    {
      "cell_type": "code",
      "source": [
        "from keras.utils import np_utils\n",
        "dummy_ytrain = np_utils.to_categorical(encoded_ytrain)\n",
        "dummy_ytest = np_utils.to_categorical(encoded_ytest)"
      ],
      "metadata": {
        "id": "IhaCRbY0LSRZ"
      },
      "execution_count": 15,
      "outputs": []
    },
    {
      "cell_type": "code",
      "source": [
        "#modelo1: 1 capa de entrada, 1 capa oculta de 50 neuronas, 1 capa de salida de 3 neuronas:\n",
        "model = Sequential()\n",
        "model.add(Dense(50, input_dim=6, activation='relu'))\n",
        "model.add(Dense(3, activation='sigmoid'))\n",
        "model.compile(loss='categorical_crossentropy', optimizer='adam', metrics=['accuracy'])"
      ],
      "metadata": {
        "id": "UrfVy8pWIKGQ"
      },
      "execution_count": 34,
      "outputs": []
    },
    {
      "cell_type": "code",
      "source": [
        "model.summary()"
      ],
      "metadata": {
        "colab": {
          "base_uri": "https://localhost:8080/"
        },
        "id": "VEncQpRQIWEc",
        "outputId": "08956d66-b176-4318-8ac6-dd88b9641986"
      },
      "execution_count": 35,
      "outputs": [
        {
          "output_type": "stream",
          "name": "stdout",
          "text": [
            "Model: \"sequential_4\"\n",
            "_________________________________________________________________\n",
            " Layer (type)                Output Shape              Param #   \n",
            "=================================================================\n",
            " dense_8 (Dense)             (None, 50)                350       \n",
            "                                                                 \n",
            " dense_9 (Dense)             (None, 3)                 153       \n",
            "                                                                 \n",
            "=================================================================\n",
            "Total params: 503\n",
            "Trainable params: 503\n",
            "Non-trainable params: 0\n",
            "_________________________________________________________________\n"
          ]
        }
      ]
    },
    {
      "cell_type": "code",
      "source": [
        "es = EarlyStopping(monitor='accuracy', mode='max', verbose=1, patience=1000)\n",
        "mc = ModelCheckpoint('best_model.h5', monitor='accuracy', mode='max', verbose=1, save_best_only=True)\n",
        "model.fit(X_train, dummy_ytrain, epochs=1000, batch_size=16, verbose=2, callbacks=[es,mc])"
      ],
      "metadata": {
        "id": "TAqS6ugnIf_A"
      },
      "execution_count": null,
      "outputs": []
    },
    {
      "cell_type": "code",
      "source": [
        "modelo = load_model('best_model.h5')\n",
        "ypred3 = modelo.predict(X_test)\n",
        "ypred3 = np.argmax(ypred3, axis=1)\n",
        "ypred3 = encoder.inverse_transform(ypred3)"
      ],
      "metadata": {
        "colab": {
          "base_uri": "https://localhost:8080/"
        },
        "id": "lTapA8Hmwmb_",
        "outputId": "7d4a007b-b9a1-4784-cf8c-ec4a973d8614"
      },
      "execution_count": 37,
      "outputs": [
        {
          "output_type": "stream",
          "name": "stdout",
          "text": [
            "11/11 [==============================] - 0s 3ms/step\n"
          ]
        }
      ]
    },
    {
      "cell_type": "code",
      "source": [
        "cm3 = confusion_matrix(y_test, ypred3)\n",
        "print(f'CM:',cm3)\n",
        "print(f'Accuracy:',accuracy_score(y_test, ypred3)* 100 ,'%')\n",
        "print(classification_report(y_test, ypred3))"
      ],
      "metadata": {
        "colab": {
          "base_uri": "https://localhost:8080/"
        },
        "id": "ctAjt0jaOAaX",
        "outputId": "9edfc4a3-f327-4435-914b-879ec4406b96"
      },
      "execution_count": 38,
      "outputs": [
        {
          "output_type": "stream",
          "name": "stdout",
          "text": [
            "CM: [[ 79   2  13]\n",
            " [  5 112  22]\n",
            " [  9  48  45]]\n",
            "Accuracy: 70.44776119402985 %\n",
            "              precision    recall  f1-score   support\n",
            "\n",
            "   high risk       0.85      0.84      0.84        94\n",
            "    low risk       0.69      0.81      0.74       139\n",
            "    mid risk       0.56      0.44      0.49       102\n",
            "\n",
            "    accuracy                           0.70       335\n",
            "   macro avg       0.70      0.70      0.69       335\n",
            "weighted avg       0.70      0.70      0.70       335\n",
            "\n"
          ]
        }
      ]
    },
    {
      "cell_type": "code",
      "source": [
        "#modelo2: 1 capa de entrada, 1 capa oculta de 100 neuronas, 1 capa de salida de 3 neuronas:\n",
        "model2 = Sequential()\n",
        "model2.add(Dense(100, input_dim=6, activation='relu'))\n",
        "model2.add(Dense(3, activation='sigmoid'))\n",
        "model2.compile(loss='categorical_crossentropy', optimizer='adam', metrics=['accuracy'])\n"
      ],
      "metadata": {
        "id": "Q5XlRlgQb6zV"
      },
      "execution_count": 39,
      "outputs": []
    },
    {
      "cell_type": "code",
      "source": [
        "model2.summary()"
      ],
      "metadata": {
        "colab": {
          "base_uri": "https://localhost:8080/"
        },
        "id": "2jP4VoeOcEVr",
        "outputId": "c3f860bd-4171-4825-aff0-8efbe58cadff"
      },
      "execution_count": 40,
      "outputs": [
        {
          "output_type": "stream",
          "name": "stdout",
          "text": [
            "Model: \"sequential_5\"\n",
            "_________________________________________________________________\n",
            " Layer (type)                Output Shape              Param #   \n",
            "=================================================================\n",
            " dense_10 (Dense)            (None, 100)               700       \n",
            "                                                                 \n",
            " dense_11 (Dense)            (None, 3)                 303       \n",
            "                                                                 \n",
            "=================================================================\n",
            "Total params: 1,003\n",
            "Trainable params: 1,003\n",
            "Non-trainable params: 0\n",
            "_________________________________________________________________\n"
          ]
        }
      ]
    },
    {
      "cell_type": "code",
      "source": [
        "es = EarlyStopping(monitor='accuracy', mode='max', verbose=1, patience=1000)\n",
        "mc = ModelCheckpoint('best_model2.h5', monitor='accuracy', mode='max', verbose=1, save_best_only=True)\n",
        "model2.fit(X_train, dummy_ytrain, epochs=1000, batch_size=16, verbose=2, callbacks=[es,mc])\n"
      ],
      "metadata": {
        "id": "n05CxMaOcH5u"
      },
      "execution_count": null,
      "outputs": []
    },
    {
      "cell_type": "code",
      "source": [
        "modelo2 = load_model('best_model2.h5')\n",
        "ypred3 = modelo2.predict(X_test)\n",
        "#ypred3 = ypred3.round()\n",
        "ypred3 = np.argmax(ypred3, axis=1)\n",
        "ypred3 = encoder.inverse_transform(ypred3)\n"
      ],
      "metadata": {
        "colab": {
          "base_uri": "https://localhost:8080/"
        },
        "id": "-lLLG9MPcOe4",
        "outputId": "91ac5c5d-d829-4505-f746-d623bde8dfd0"
      },
      "execution_count": 42,
      "outputs": [
        {
          "output_type": "stream",
          "name": "stdout",
          "text": [
            "11/11 [==============================] - 0s 2ms/step\n"
          ]
        }
      ]
    },
    {
      "cell_type": "code",
      "source": [
        "cm4 = confusion_matrix(y_test, ypred3)\n",
        "print(f'CM:',cm4)\n",
        "print(f'Accuracy:',accuracy_score(y_test, ypred3)* 100 ,'%')\n",
        "print(classification_report(y_test, ypred3))\n",
        "\n"
      ],
      "metadata": {
        "colab": {
          "base_uri": "https://localhost:8080/"
        },
        "id": "rJcn57YgcfJ6",
        "outputId": "365b3003-e9a0-42a1-df05-d169d13a8067"
      },
      "execution_count": 43,
      "outputs": [
        {
          "output_type": "stream",
          "name": "stdout",
          "text": [
            "CM: [[ 78   2  14]\n",
            " [  5 100  34]\n",
            " [  9  34  59]]\n",
            "Accuracy: 70.74626865671641 %\n",
            "              precision    recall  f1-score   support\n",
            "\n",
            "   high risk       0.85      0.83      0.84        94\n",
            "    low risk       0.74      0.72      0.73       139\n",
            "    mid risk       0.55      0.58      0.56       102\n",
            "\n",
            "    accuracy                           0.71       335\n",
            "   macro avg       0.71      0.71      0.71       335\n",
            "weighted avg       0.71      0.71      0.71       335\n",
            "\n"
          ]
        }
      ]
    },
    {
      "cell_type": "code",
      "source": [
        "#modelo3: 1 capa de entrada, 2 capas ocultas de 100 neuronas, 1 capa de salida de 3 neuronas:\n",
        "model3 = Sequential()\n",
        "model3.add(Dense(100, input_dim=6, activation='relu'))\n",
        "model3.add(Dense(100, activation='sigmoid'))\n",
        "model3.add(Dense(3, activation='sigmoid'))\n",
        "model3.compile(loss='categorical_crossentropy', optimizer='adam', metrics=['accuracy'])\n"
      ],
      "metadata": {
        "id": "SX-3wSYElgQM"
      },
      "execution_count": 44,
      "outputs": []
    },
    {
      "cell_type": "code",
      "source": [
        "model3.summary()"
      ],
      "metadata": {
        "colab": {
          "base_uri": "https://localhost:8080/"
        },
        "id": "9Ndb5OXSlxj0",
        "outputId": "3e0c777b-fe78-4713-dfb4-416a065fd301"
      },
      "execution_count": 45,
      "outputs": [
        {
          "output_type": "stream",
          "name": "stdout",
          "text": [
            "Model: \"sequential_6\"\n",
            "_________________________________________________________________\n",
            " Layer (type)                Output Shape              Param #   \n",
            "=================================================================\n",
            " dense_12 (Dense)            (None, 100)               700       \n",
            "                                                                 \n",
            " dense_13 (Dense)            (None, 100)               10100     \n",
            "                                                                 \n",
            " dense_14 (Dense)            (None, 3)                 303       \n",
            "                                                                 \n",
            "=================================================================\n",
            "Total params: 11,103\n",
            "Trainable params: 11,103\n",
            "Non-trainable params: 0\n",
            "_________________________________________________________________\n"
          ]
        }
      ]
    },
    {
      "cell_type": "code",
      "source": [
        "es = EarlyStopping(monitor='accuracy', mode='max', verbose=1, patience=1000)\n",
        "mc = ModelCheckpoint('best_model3.h5', monitor='accuracy', mode='max', verbose=1, save_best_only=True)\n",
        "model3.fit(X_train, dummy_ytrain, epochs=1000, batch_size=16, verbose=2, callbacks=[es,mc])\n"
      ],
      "metadata": {
        "id": "WzK9fZzmlzqp"
      },
      "execution_count": null,
      "outputs": []
    },
    {
      "cell_type": "code",
      "source": [
        "modelo3 = load_model('best_model3.h5')\n",
        "ypred3 = modelo3.predict(X_test)\n",
        "#ypred3 = ypred3.round()\n",
        "ypred3 = np.argmax(ypred3, axis=1)\n",
        "ypred3 = encoder.inverse_transform(ypred3)\n",
        "#ypred3\n"
      ],
      "metadata": {
        "colab": {
          "base_uri": "https://localhost:8080/"
        },
        "id": "40ZliSqCl4pM",
        "outputId": "f0053aa7-e9bf-4a2f-e2c7-35ac64caf580"
      },
      "execution_count": 47,
      "outputs": [
        {
          "output_type": "stream",
          "name": "stdout",
          "text": [
            "11/11 [==============================] - 0s 2ms/step\n"
          ]
        }
      ]
    },
    {
      "cell_type": "code",
      "source": [
        "cm5 = confusion_matrix(y_test, ypred3)\n",
        "print(f'CM:',cm5)\n",
        "print(f'Accuracy:',accuracy_score(y_test, ypred3)* 100 ,'%')\n",
        "print(classification_report(y_test, ypred3))\n"
      ],
      "metadata": {
        "colab": {
          "base_uri": "https://localhost:8080/"
        },
        "id": "ARyNvi-Ll98s",
        "outputId": "9f432169-bfd6-4bd7-9a54-68ebfd6791f8"
      },
      "execution_count": 48,
      "outputs": [
        {
          "output_type": "stream",
          "name": "stdout",
          "text": [
            "CM: [[ 75   6  13]\n",
            " [  4 127   8]\n",
            " [  5  56  41]]\n",
            "Accuracy: 72.53731343283583 %\n",
            "              precision    recall  f1-score   support\n",
            "\n",
            "   high risk       0.89      0.80      0.84        94\n",
            "    low risk       0.67      0.91      0.77       139\n",
            "    mid risk       0.66      0.40      0.50       102\n",
            "\n",
            "    accuracy                           0.73       335\n",
            "   macro avg       0.74      0.70      0.71       335\n",
            "weighted avg       0.73      0.73      0.71       335\n",
            "\n"
          ]
        }
      ]
    },
    {
      "cell_type": "code",
      "source": [
        "#modelo4: 1 capa de entrada, 3 capas ocultas de 100 neuronas, 1 capa de salida de 3 neuronas:\n",
        "model4 = Sequential()\n",
        "model4.add(Dense(100, input_dim=6, activation='relu'))\n",
        "model4.add(Dense(100, activation='sigmoid'))\n",
        "model4.add(Dense(100, activation='sigmoid'))\n",
        "model4.add(Dense(3, activation='sigmoid'))\n",
        "model4.compile(loss='categorical_crossentropy', optimizer='adam', metrics=['accuracy'])\n"
      ],
      "metadata": {
        "id": "7i6hIL1eq_vl"
      },
      "execution_count": 49,
      "outputs": []
    },
    {
      "cell_type": "code",
      "source": [
        "model4.summary()"
      ],
      "metadata": {
        "colab": {
          "base_uri": "https://localhost:8080/"
        },
        "id": "xvsei6kzrIGM",
        "outputId": "7c722788-271c-4161-e982-f3ad1d7eec9b"
      },
      "execution_count": 50,
      "outputs": [
        {
          "output_type": "stream",
          "name": "stdout",
          "text": [
            "Model: \"sequential_7\"\n",
            "_________________________________________________________________\n",
            " Layer (type)                Output Shape              Param #   \n",
            "=================================================================\n",
            " dense_15 (Dense)            (None, 100)               700       \n",
            "                                                                 \n",
            " dense_16 (Dense)            (None, 100)               10100     \n",
            "                                                                 \n",
            " dense_17 (Dense)            (None, 100)               10100     \n",
            "                                                                 \n",
            " dense_18 (Dense)            (None, 3)                 303       \n",
            "                                                                 \n",
            "=================================================================\n",
            "Total params: 21,203\n",
            "Trainable params: 21,203\n",
            "Non-trainable params: 0\n",
            "_________________________________________________________________\n"
          ]
        }
      ]
    },
    {
      "cell_type": "code",
      "source": [
        "es = EarlyStopping(monitor='accuracy', mode='max', verbose=1, patience=1000)\n",
        "mc = ModelCheckpoint('best_model4.h5', monitor='accuracy', mode='max', verbose=1, save_best_only=True)\n",
        "model4.fit(X_train, dummy_ytrain, epochs=1000, batch_size=16, verbose=2, callbacks=[es,mc])\n"
      ],
      "metadata": {
        "id": "VtxwutK4rNz2"
      },
      "execution_count": null,
      "outputs": []
    },
    {
      "cell_type": "code",
      "source": [
        "modelo4 = load_model('best_model4.h5')\n",
        "ypred3 = modelo4.predict(X_test)\n",
        "#ypred3 = ypred3.round()\n",
        "ypred3 = np.argmax(ypred3, axis=1)\n",
        "ypred3 = encoder.inverse_transform(ypred3)\n",
        "#ypred3"
      ],
      "metadata": {
        "colab": {
          "base_uri": "https://localhost:8080/"
        },
        "id": "RrHc9ncZrTvQ",
        "outputId": "f1612ada-18b0-4063-e663-f0fe536b4640"
      },
      "execution_count": 52,
      "outputs": [
        {
          "output_type": "stream",
          "name": "stdout",
          "text": [
            "11/11 [==============================] - 0s 2ms/step\n"
          ]
        }
      ]
    },
    {
      "cell_type": "code",
      "source": [
        "cm6 = confusion_matrix(y_test, ypred3)\n",
        "print(f'CM:',cm6)\n",
        "print(f'Accuracy:',accuracy_score(y_test, ypred3)* 100 ,'%')\n",
        "print(classification_report(y_test, ypred3))\n"
      ],
      "metadata": {
        "colab": {
          "base_uri": "https://localhost:8080/"
        },
        "id": "XZBnLVRbrZlQ",
        "outputId": "5cc93a41-d221-4fd1-e4fb-83d584b4772e"
      },
      "execution_count": 53,
      "outputs": [
        {
          "output_type": "stream",
          "name": "stdout",
          "text": [
            "CM: [[ 77   2  15]\n",
            " [  3 114  22]\n",
            " [  9  40  53]]\n",
            "Accuracy: 72.83582089552239 %\n",
            "              precision    recall  f1-score   support\n",
            "\n",
            "   high risk       0.87      0.82      0.84        94\n",
            "    low risk       0.73      0.82      0.77       139\n",
            "    mid risk       0.59      0.52      0.55       102\n",
            "\n",
            "    accuracy                           0.73       335\n",
            "   macro avg       0.73      0.72      0.72       335\n",
            "weighted avg       0.73      0.73      0.72       335\n",
            "\n"
          ]
        }
      ]
    },
    {
      "cell_type": "code",
      "source": [
        "#modelo5: 1 capa de entrada, 3 capas ocultas de 500 neuronas, 1 capa de salida de 3 neuronas:\n",
        "model5 = Sequential()\n",
        "model5.add(Dense(500, input_dim=6, activation='relu'))\n",
        "model5.add(Dense(500, activation='sigmoid'))\n",
        "model5.add(Dense(500, activation='sigmoid'))\n",
        "model5.add(Dense(3, activation='sigmoid'))\n",
        "model5.compile(loss='categorical_crossentropy', optimizer='adam', metrics=['accuracy'])\n"
      ],
      "metadata": {
        "id": "PWepnlsF5Wow"
      },
      "execution_count": 56,
      "outputs": []
    },
    {
      "cell_type": "code",
      "source": [
        "model5.summary()"
      ],
      "metadata": {
        "colab": {
          "base_uri": "https://localhost:8080/"
        },
        "id": "3CicPO1r5f3D",
        "outputId": "d969f25c-f06e-4bf3-b5db-76cbfa8dd77f"
      },
      "execution_count": 57,
      "outputs": [
        {
          "output_type": "stream",
          "name": "stdout",
          "text": [
            "Model: \"sequential_8\"\n",
            "_________________________________________________________________\n",
            " Layer (type)                Output Shape              Param #   \n",
            "=================================================================\n",
            " dense_19 (Dense)            (None, 500)               3500      \n",
            "                                                                 \n",
            " dense_20 (Dense)            (None, 500)               250500    \n",
            "                                                                 \n",
            " dense_21 (Dense)            (None, 500)               250500    \n",
            "                                                                 \n",
            " dense_22 (Dense)            (None, 3)                 1503      \n",
            "                                                                 \n",
            "=================================================================\n",
            "Total params: 506,003\n",
            "Trainable params: 506,003\n",
            "Non-trainable params: 0\n",
            "_________________________________________________________________\n"
          ]
        }
      ]
    },
    {
      "cell_type": "code",
      "source": [
        "es = EarlyStopping(monitor='accuracy', mode='max', verbose=1, patience=1000)\n",
        "mc = ModelCheckpoint('best_model5.h5', monitor='accuracy', mode='max', verbose=1, save_best_only=True)\n",
        "model5.fit(X_train, dummy_ytrain, epochs=1000, batch_size=16, verbose=2, callbacks=[es,mc])\n"
      ],
      "metadata": {
        "id": "auDLNWhl5kzt"
      },
      "execution_count": null,
      "outputs": []
    },
    {
      "cell_type": "code",
      "source": [
        "modelo5 = load_model('best_model5.h5')\n",
        "ypred3 = modelo5.predict(X_test)\n",
        "#ypred3 = ypred3.round()\n",
        "ypred3 = np.argmax(ypred3, axis=1)\n",
        "ypred3 = encoder.inverse_transform(ypred3)\n",
        "#ypred3"
      ],
      "metadata": {
        "colab": {
          "base_uri": "https://localhost:8080/"
        },
        "id": "7gHWxjHp5sLx",
        "outputId": "47ea231a-bd56-417c-f2c4-64eb2f2c0a2a"
      },
      "execution_count": 59,
      "outputs": [
        {
          "output_type": "stream",
          "name": "stdout",
          "text": [
            "11/11 [==============================] - 0s 4ms/step\n"
          ]
        }
      ]
    },
    {
      "cell_type": "code",
      "source": [
        "cm7 = confusion_matrix(y_test, ypred3)\n",
        "print(f'CM:',cm7)\n",
        "print(f'Accuracy:',accuracy_score(y_test, ypred3)* 100 ,'%')\n",
        "print(classification_report(y_test, ypred3))"
      ],
      "metadata": {
        "colab": {
          "base_uri": "https://localhost:8080/"
        },
        "id": "AbZqqFmc5zKE",
        "outputId": "1deaf132-483a-43c2-db78-28951ce4f64e"
      },
      "execution_count": 60,
      "outputs": [
        {
          "output_type": "stream",
          "name": "stdout",
          "text": [
            "CM: [[ 81   0  13]\n",
            " [  6 102  31]\n",
            " [  6  21  75]]\n",
            "Accuracy: 77.01492537313432 %\n",
            "              precision    recall  f1-score   support\n",
            "\n",
            "   high risk       0.87      0.86      0.87        94\n",
            "    low risk       0.83      0.73      0.78       139\n",
            "    mid risk       0.63      0.74      0.68       102\n",
            "\n",
            "    accuracy                           0.77       335\n",
            "   macro avg       0.78      0.78      0.77       335\n",
            "weighted avg       0.78      0.77      0.77       335\n",
            "\n"
          ]
        }
      ]
    },
    {
      "cell_type": "markdown",
      "source": [
        "* Tabla comparativa:\n",
        "\n",
        "\n",
        "\n"
      ],
      "metadata": {
        "id": "V2f0feUIfAJb"
      }
    },
    {
      "cell_type": "code",
      "source": [
        "\n",
        "from tabulate import tabulate\n",
        "data = [[\"Árbol de Clasif.\",\"--\",0.69,0.86,0.74,0.90,0.79],\n",
        "[\"Random Forest\",\"--\",0.70,0.86,0.76,0.88,0.81],\n",
        "[\"RN1 (1,50)\",503,0.56,0.85,0.44,0.84,0.70],\n",
        "[\"RN2 (1,100)\",1003,0.55,0.85,0.58,0.83,0.71],\n",
        "[\"RN3 (2,100)\",11103,0.66,0.89,0.40,0.91,0.73],\n",
        "[\"RN4 (3,100)\",21203,0.59,0.87,0.52,0.82,0.73],\n",
        "[\"RN5 (3,500)\",506003,0.63,0.87,0.73,0.86,0.77]\n",
        "]\n",
        "print (tabulate(data, headers=[\"Método\", \"Parámetros\", \"Min Precision\", \"Max Precision\", \"Min Recall\", \"Max Recall\", \"Accuracy (global)\"]))"
      ],
      "metadata": {
        "colab": {
          "base_uri": "https://localhost:8080/"
        },
        "id": "zgA9DOTB3V_U",
        "outputId": "c7452b0a-c029-40d0-9040-137fd3e016af"
      },
      "execution_count": 61,
      "outputs": [
        {
          "output_type": "stream",
          "name": "stdout",
          "text": [
            "Método            Parámetros      Min Precision    Max Precision    Min Recall    Max Recall    Accuracy (global)\n",
            "----------------  ------------  ---------------  ---------------  ------------  ------------  -------------------\n",
            "Árbol de Clasif.  --                       0.69             0.86          0.74          0.9                  0.79\n",
            "Random Forest     --                       0.7              0.86          0.76          0.88                 0.81\n",
            "RN1 (1,50)        503                      0.56             0.85          0.44          0.84                 0.7\n",
            "RN2 (1,100)       1003                     0.55             0.85          0.58          0.83                 0.71\n",
            "RN3 (2,100)       11103                    0.66             0.89          0.4           0.91                 0.73\n",
            "RN4 (3,100)       21203                    0.59             0.87          0.52          0.82                 0.73\n",
            "RN5 (3,500)       506003                   0.63             0.87          0.73          0.86                 0.77\n"
          ]
        }
      ]
    }
  ],
  "metadata": {
    "kernelspec": {
      "display_name": "Python 3",
      "language": "python",
      "name": "python3"
    },
    "language_info": {
      "codemirror_mode": {
        "name": "ipython",
        "version": 3
      },
      "file_extension": ".py",
      "mimetype": "text/x-python",
      "name": "python",
      "nbconvert_exporter": "python",
      "pygments_lexer": "ipython3",
      "version": "3.8.3-final"
    },
    "colab": {
      "provenance": [],
      "include_colab_link": true
    }
  },
  "nbformat": 4,
  "nbformat_minor": 0
}